{
 "cells": [
  {
   "cell_type": "markdown",
   "id": "f276b0cf",
   "metadata": {
    "papermill": {
     "duration": 0.014812,
     "end_time": "2022-04-29T20:46:26.150001",
     "exception": false,
     "start_time": "2022-04-29T20:46:26.135189",
     "status": "completed"
    },
    "tags": []
   },
   "source": [
    "**This notebook is an exercise in the [Data Cleaning](https://www.kaggle.com/learn/data-cleaning) course.  You can reference the tutorial at [this link](https://www.kaggle.com/alexisbcook/character-encodings).**\n",
    "\n",
    "---\n"
   ]
  },
  {
   "cell_type": "markdown",
   "id": "c4181b6e",
   "metadata": {
    "papermill": {
     "duration": 0.013353,
     "end_time": "2022-04-29T20:46:26.177144",
     "exception": false,
     "start_time": "2022-04-29T20:46:26.163791",
     "status": "completed"
    },
    "tags": []
   },
   "source": [
    "In this exercise, you'll apply what you learned in the **Character encodings** tutorial.\n",
    "\n",
    "# Setup\n",
    "\n",
    "The questions below will give you feedback on your work. Run the following cell to set up the feedback system."
   ]
  },
  {
   "cell_type": "code",
   "execution_count": 1,
   "id": "7c6c2f66",
   "metadata": {
    "execution": {
     "iopub.execute_input": "2022-04-29T20:46:26.206108Z",
     "iopub.status.busy": "2022-04-29T20:46:26.205715Z",
     "iopub.status.idle": "2022-04-29T20:46:26.280858Z",
     "shell.execute_reply": "2022-04-29T20:46:26.280106Z"
    },
    "papermill": {
     "duration": 0.092228,
     "end_time": "2022-04-29T20:46:26.282987",
     "exception": false,
     "start_time": "2022-04-29T20:46:26.190759",
     "status": "completed"
    },
    "tags": []
   },
   "outputs": [
    {
     "name": "stdout",
     "output_type": "stream",
     "text": [
      "Setup Complete\n"
     ]
    }
   ],
   "source": [
    "from learntools.core import binder\n",
    "binder.bind(globals())\n",
    "from learntools.data_cleaning.ex4 import *\n",
    "print(\"Setup Complete\")"
   ]
  },
  {
   "cell_type": "markdown",
   "id": "474dc5e0",
   "metadata": {
    "papermill": {
     "duration": 0.013191,
     "end_time": "2022-04-29T20:46:26.311424",
     "exception": false,
     "start_time": "2022-04-29T20:46:26.298233",
     "status": "completed"
    },
    "tags": []
   },
   "source": [
    "# Get our environment set up\n",
    "\n",
    "The first thing we'll need to do is load in the libraries we'll be using."
   ]
  },
  {
   "cell_type": "code",
   "execution_count": 2,
   "id": "0e4917f8",
   "metadata": {
    "execution": {
     "iopub.execute_input": "2022-04-29T20:46:26.340250Z",
     "iopub.status.busy": "2022-04-29T20:46:26.339957Z",
     "iopub.status.idle": "2022-04-29T20:46:26.344150Z",
     "shell.execute_reply": "2022-04-29T20:46:26.343278Z"
    },
    "papermill": {
     "duration": 0.020256,
     "end_time": "2022-04-29T20:46:26.345413",
     "exception": false,
     "start_time": "2022-04-29T20:46:26.325157",
     "status": "completed"
    },
    "tags": []
   },
   "outputs": [],
   "source": [
    "# modules we'll use\n",
    "import pandas as pd\n",
    "import numpy as np\n",
    "\n",
    "# helpful character encoding module\n",
    "import chardet\n",
    "\n",
    "# set seed for reproducibility\n",
    "np.random.seed(0)"
   ]
  },
  {
   "cell_type": "markdown",
   "id": "5fe29ea9",
   "metadata": {
    "papermill": {
     "duration": 0.013067,
     "end_time": "2022-04-29T20:46:26.372010",
     "exception": false,
     "start_time": "2022-04-29T20:46:26.358943",
     "status": "completed"
    },
    "tags": []
   },
   "source": [
    "# 1) What are encodings?\n",
    "\n",
    "You're working with a dataset composed of bytes.  Run the code cell below to print a sample entry."
   ]
  },
  {
   "cell_type": "code",
   "execution_count": 3,
   "id": "f254b64b",
   "metadata": {
    "execution": {
     "iopub.execute_input": "2022-04-29T20:46:26.399822Z",
     "iopub.status.busy": "2022-04-29T20:46:26.399436Z",
     "iopub.status.idle": "2022-04-29T20:46:26.404591Z",
     "shell.execute_reply": "2022-04-29T20:46:26.403618Z"
    },
    "papermill": {
     "duration": 0.021416,
     "end_time": "2022-04-29T20:46:26.406605",
     "exception": false,
     "start_time": "2022-04-29T20:46:26.385189",
     "status": "completed"
    },
    "tags": []
   },
   "outputs": [
    {
     "name": "stdout",
     "output_type": "stream",
     "text": [
      "b'\\xa7A\\xa6n'\n",
      "data type: <class 'bytes'>\n"
     ]
    }
   ],
   "source": [
    "sample_entry = b'\\xa7A\\xa6n'\n",
    "print(sample_entry)\n",
    "print('data type:', type(sample_entry))"
   ]
  },
  {
   "cell_type": "markdown",
   "id": "f73b5daf",
   "metadata": {
    "papermill": {
     "duration": 0.013271,
     "end_time": "2022-04-29T20:46:26.434173",
     "exception": false,
     "start_time": "2022-04-29T20:46:26.420902",
     "status": "completed"
    },
    "tags": []
   },
   "source": [
    "You notice that it doesn't use the standard UTF-8 encoding. \n",
    "\n",
    "Use the next code cell to create a variable `new_entry` that changes the encoding from `\"big5-tw\"` to `\"utf-8\"`.  `new_entry` should have the bytes datatype."
   ]
  },
  {
   "cell_type": "code",
   "execution_count": 4,
   "id": "34693edb",
   "metadata": {
    "execution": {
     "iopub.execute_input": "2022-04-29T20:46:26.463295Z",
     "iopub.status.busy": "2022-04-29T20:46:26.462389Z",
     "iopub.status.idle": "2022-04-29T20:46:26.473164Z",
     "shell.execute_reply": "2022-04-29T20:46:26.472500Z"
    },
    "papermill": {
     "duration": 0.026987,
     "end_time": "2022-04-29T20:46:26.474695",
     "exception": false,
     "start_time": "2022-04-29T20:46:26.447708",
     "status": "completed"
    },
    "tags": []
   },
   "outputs": [
    {
     "data": {
      "application/javascript": [
       "parent.postMessage({\"jupyterEvent\": \"custom.exercise_interaction\", \"data\": {\"outcomeType\": 1, \"valueTowardsCompletion\": 0.3333333333333333, \"interactionType\": 1, \"questionType\": 1, \"questionId\": \"1_EncodingsIntro\", \"learnToolsVersion\": \"0.3.4\", \"failureMessage\": \"\", \"exceptionClass\": \"\", \"trace\": \"\"}}, \"*\")"
      ],
      "text/plain": [
       "<IPython.core.display.Javascript object>"
      ]
     },
     "metadata": {},
     "output_type": "display_data"
    },
    {
     "data": {
      "text/markdown": [
       "<span style=\"color:#33cc33\">Correct</span>"
      ],
      "text/plain": [
       "Correct"
      ]
     },
     "metadata": {},
     "output_type": "display_data"
    }
   ],
   "source": [
    "before = sample_entry.decode(\"big5-tw\")\n",
    "new_entry = before.encode()\n",
    "# Check your answer\n",
    "q1.check()"
   ]
  },
  {
   "cell_type": "code",
   "execution_count": 5,
   "id": "a7f1a903",
   "metadata": {
    "execution": {
     "iopub.execute_input": "2022-04-29T20:46:26.506474Z",
     "iopub.status.busy": "2022-04-29T20:46:26.506252Z",
     "iopub.status.idle": "2022-04-29T20:46:26.509076Z",
     "shell.execute_reply": "2022-04-29T20:46:26.508420Z"
    },
    "papermill": {
     "duration": 0.02014,
     "end_time": "2022-04-29T20:46:26.510439",
     "exception": false,
     "start_time": "2022-04-29T20:46:26.490299",
     "status": "completed"
    },
    "tags": []
   },
   "outputs": [],
   "source": [
    "# Lines below will give you a hint or solution code\n",
    "#q1.hint()\n",
    "# q1.solution()"
   ]
  },
  {
   "cell_type": "markdown",
   "id": "cd2edd42",
   "metadata": {
    "papermill": {
     "duration": 0.01588,
     "end_time": "2022-04-29T20:46:26.541619",
     "exception": false,
     "start_time": "2022-04-29T20:46:26.525739",
     "status": "completed"
    },
    "tags": []
   },
   "source": [
    "# 2) Reading in files with encoding problems\n",
    "\n",
    "Use the code cell below to read in this file at path `\"../input/fatal-police-shootings-in-the-us/PoliceKillingsUS.csv\"`.  \n",
    "\n",
    "Figure out what the correct encoding should be and read in the file to a DataFrame `police_killings`."
   ]
  },
  {
   "cell_type": "code",
   "execution_count": 6,
   "id": "441dc9e7",
   "metadata": {
    "execution": {
     "iopub.execute_input": "2022-04-29T20:46:26.572632Z",
     "iopub.status.busy": "2022-04-29T20:46:26.572396Z",
     "iopub.status.idle": "2022-04-29T20:46:26.591465Z",
     "shell.execute_reply": "2022-04-29T20:46:26.590680Z"
    },
    "papermill": {
     "duration": 0.036587,
     "end_time": "2022-04-29T20:46:26.592953",
     "exception": false,
     "start_time": "2022-04-29T20:46:26.556366",
     "status": "completed"
    },
    "tags": []
   },
   "outputs": [
    {
     "data": {
      "application/javascript": [
       "parent.postMessage({\"jupyterEvent\": \"custom.exercise_interaction\", \"data\": {\"outcomeType\": 1, \"valueTowardsCompletion\": 0.3333333333333333, \"interactionType\": 1, \"questionType\": 1, \"questionId\": \"2_ReadIn\", \"learnToolsVersion\": \"0.3.4\", \"failureMessage\": \"\", \"exceptionClass\": \"\", \"trace\": \"\"}}, \"*\")"
      ],
      "text/plain": [
       "<IPython.core.display.Javascript object>"
      ]
     },
     "metadata": {},
     "output_type": "display_data"
    },
    {
     "data": {
      "text/markdown": [
       "<span style=\"color:#33cc33\">Correct</span>"
      ],
      "text/plain": [
       "Correct"
      ]
     },
     "metadata": {},
     "output_type": "display_data"
    }
   ],
   "source": [
    "# TODO: Load in the DataFrame correctly.\n",
    "police_killings = pd.read_csv(\"../input/fatal-police-shootings-in-the-us/PoliceKillingsUS.csv\", encoding='Windows-1252')\n",
    "\n",
    "# Check your answer\n",
    "q2.check()"
   ]
  },
  {
   "cell_type": "markdown",
   "id": "21cefed6",
   "metadata": {
    "papermill": {
     "duration": 0.015429,
     "end_time": "2022-04-29T20:46:26.625468",
     "exception": false,
     "start_time": "2022-04-29T20:46:26.610039",
     "status": "completed"
    },
    "tags": []
   },
   "source": [
    "Feel free to use any additional code cells for supplemental work.  To get credit for finishing this question, you'll need to run `q2.check()` and get a result of **Correct**."
   ]
  },
  {
   "cell_type": "code",
   "execution_count": 7,
   "id": "276da04b",
   "metadata": {
    "execution": {
     "iopub.execute_input": "2022-04-29T20:46:26.659297Z",
     "iopub.status.busy": "2022-04-29T20:46:26.659060Z",
     "iopub.status.idle": "2022-04-29T20:46:26.662524Z",
     "shell.execute_reply": "2022-04-29T20:46:26.661677Z"
    },
    "papermill": {
     "duration": 0.022244,
     "end_time": "2022-04-29T20:46:26.663993",
     "exception": false,
     "start_time": "2022-04-29T20:46:26.641749",
     "status": "completed"
    },
    "tags": []
   },
   "outputs": [],
   "source": [
    "# (Optional) Use this code cell for any additional work."
   ]
  },
  {
   "cell_type": "code",
   "execution_count": 8,
   "id": "0cf6a307",
   "metadata": {
    "execution": {
     "iopub.execute_input": "2022-04-29T20:46:26.696811Z",
     "iopub.status.busy": "2022-04-29T20:46:26.696543Z",
     "iopub.status.idle": "2022-04-29T20:46:26.699844Z",
     "shell.execute_reply": "2022-04-29T20:46:26.699129Z"
    },
    "papermill": {
     "duration": 0.021551,
     "end_time": "2022-04-29T20:46:26.701252",
     "exception": false,
     "start_time": "2022-04-29T20:46:26.679701",
     "status": "completed"
    },
    "tags": []
   },
   "outputs": [],
   "source": [
    "# Lines below will give you a hint or solution code\n",
    "#q2.hint()\n",
    "# q2.solution()"
   ]
  },
  {
   "cell_type": "markdown",
   "id": "09c5b2c8",
   "metadata": {
    "papermill": {
     "duration": 0.015472,
     "end_time": "2022-04-29T20:46:26.732386",
     "exception": false,
     "start_time": "2022-04-29T20:46:26.716914",
     "status": "completed"
    },
    "tags": []
   },
   "source": [
    "# 3) Saving your files with UTF-8 encoding\n",
    "\n",
    "Save a version of the police killings dataset to CSV with UTF-8 encoding.  Your answer will be marked correct after saving this file.  \n",
    "\n",
    "Note: When using the `to_csv()` method, supply only the name of the file (e.g., `\"my_file.csv\"`).  This saves the file at the filepath `\"/kaggle/working/my_file.csv\"`."
   ]
  },
  {
   "cell_type": "code",
   "execution_count": 9,
   "id": "038d6916",
   "metadata": {
    "execution": {
     "iopub.execute_input": "2022-04-29T20:46:26.765739Z",
     "iopub.status.busy": "2022-04-29T20:46:26.765013Z",
     "iopub.status.idle": "2022-04-29T20:46:26.805899Z",
     "shell.execute_reply": "2022-04-29T20:46:26.805128Z"
    },
    "papermill": {
     "duration": 0.05963,
     "end_time": "2022-04-29T20:46:26.807652",
     "exception": false,
     "start_time": "2022-04-29T20:46:26.748022",
     "status": "completed"
    },
    "tags": []
   },
   "outputs": [
    {
     "data": {
      "application/javascript": [
       "parent.postMessage({\"jupyterEvent\": \"custom.exercise_interaction\", \"data\": {\"outcomeType\": 1, \"valueTowardsCompletion\": 0.3333333333333333, \"interactionType\": 1, \"questionType\": 2, \"questionId\": \"3_SaveCSV\", \"learnToolsVersion\": \"0.3.4\", \"failureMessage\": \"\", \"exceptionClass\": \"\", \"trace\": \"\"}}, \"*\")"
      ],
      "text/plain": [
       "<IPython.core.display.Javascript object>"
      ]
     },
     "metadata": {},
     "output_type": "display_data"
    },
    {
     "data": {
      "text/markdown": [
       "<span style=\"color:#33cc33\">Correct</span>"
      ],
      "text/plain": [
       "Correct"
      ]
     },
     "metadata": {},
     "output_type": "display_data"
    }
   ],
   "source": [
    "# TODO: Save the police killings dataset to CSV\n",
    "police_killings.to_csv(\"PoliceKillingsUS-utf8.csv\")\n",
    "\n",
    "# Check your answer\n",
    "q3.check()"
   ]
  },
  {
   "cell_type": "code",
   "execution_count": 10,
   "id": "82516b3b",
   "metadata": {
    "execution": {
     "iopub.execute_input": "2022-04-29T20:46:26.844193Z",
     "iopub.status.busy": "2022-04-29T20:46:26.843521Z",
     "iopub.status.idle": "2022-04-29T20:46:26.846601Z",
     "shell.execute_reply": "2022-04-29T20:46:26.846104Z"
    },
    "papermill": {
     "duration": 0.023701,
     "end_time": "2022-04-29T20:46:26.848072",
     "exception": false,
     "start_time": "2022-04-29T20:46:26.824371",
     "status": "completed"
    },
    "tags": []
   },
   "outputs": [],
   "source": [
    "# Lines below will give you a hint or solution code\n",
    "#q3.hint()\n",
    "#q3.solution()"
   ]
  },
  {
   "cell_type": "markdown",
   "id": "1a136e16",
   "metadata": {
    "papermill": {
     "duration": 0.017462,
     "end_time": "2022-04-29T20:46:26.883023",
     "exception": false,
     "start_time": "2022-04-29T20:46:26.865561",
     "status": "completed"
    },
    "tags": []
   },
   "source": [
    "# (Optional) More practice\n",
    "\n",
    "Check out [this dataset of files in different character encodings](https://www.kaggle.com/rtatman/character-encoding-examples). Can you read in all the files with their original encodings and them save them out as UTF-8 files?\n",
    "\n",
    "If you have a file that's in UTF-8 but has just a couple of weird-looking characters in it, you can try out the [ftfy module](https://ftfy.readthedocs.io/en/latest/#) and see if it helps. \n",
    "\n",
    "# Keep going\n",
    "\n",
    "In the final lesson, learn how to [**clean up inconsistent text entries**](https://www.kaggle.com/alexisbcook/inconsistent-data-entry) in your dataset."
   ]
  },
  {
   "cell_type": "markdown",
   "id": "c39eb292",
   "metadata": {
    "papermill": {
     "duration": 0.016683,
     "end_time": "2022-04-29T20:46:26.917247",
     "exception": false,
     "start_time": "2022-04-29T20:46:26.900564",
     "status": "completed"
    },
    "tags": []
   },
   "source": [
    "---\n",
    "\n",
    "\n",
    "\n",
    "\n",
    "*Have questions or comments? Visit the [course discussion forum](https://www.kaggle.com/learn/data-cleaning/discussion) to chat with other learners.*"
   ]
  }
 ],
 "metadata": {
  "kernelspec": {
   "display_name": "Python 3",
   "language": "python",
   "name": "python3"
  },
  "language_info": {
   "codemirror_mode": {
    "name": "ipython",
    "version": 3
   },
   "file_extension": ".py",
   "mimetype": "text/x-python",
   "name": "python",
   "nbconvert_exporter": "python",
   "pygments_lexer": "ipython3",
   "version": "3.7.12"
  },
  "papermill": {
   "default_parameters": {},
   "duration": 11.784009,
   "end_time": "2022-04-29T20:46:27.654117",
   "environment_variables": {},
   "exception": null,
   "input_path": "__notebook__.ipynb",
   "output_path": "__notebook__.ipynb",
   "parameters": {},
   "start_time": "2022-04-29T20:46:15.870108",
   "version": "2.3.4"
  }
 },
 "nbformat": 4,
 "nbformat_minor": 5
}
