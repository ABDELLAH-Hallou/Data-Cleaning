{
 "cells": [
  {
   "cell_type": "markdown",
   "id": "4de49f69",
   "metadata": {
    "papermill": {
     "duration": 0.033933,
     "end_time": "2022-04-29T20:32:11.514267",
     "exception": false,
     "start_time": "2022-04-29T20:32:11.480334",
     "status": "completed"
    },
    "tags": []
   },
   "source": [
    "**This notebook is an exercise in the [Data Cleaning](https://www.kaggle.com/learn/data-cleaning) course.  You can reference the tutorial at [this link](https://www.kaggle.com/alexisbcook/parsing-dates).**\n",
    "\n",
    "---\n"
   ]
  },
  {
   "cell_type": "markdown",
   "id": "e60117cb",
   "metadata": {
    "papermill": {
     "duration": 0.030401,
     "end_time": "2022-04-29T20:32:11.575706",
     "exception": false,
     "start_time": "2022-04-29T20:32:11.545305",
     "status": "completed"
    },
    "tags": []
   },
   "source": [
    "In this exercise, you'll apply what you learned in the **Parsing dates** tutorial.\n",
    "\n",
    "# Setup\n",
    "\n",
    "The questions below will give you feedback on your work. Run the following cell to set up the feedback system."
   ]
  },
  {
   "cell_type": "code",
   "execution_count": 1,
   "id": "7d8bc5b1",
   "metadata": {
    "execution": {
     "iopub.execute_input": "2022-04-29T20:32:11.639734Z",
     "iopub.status.busy": "2022-04-29T20:32:11.639192Z",
     "iopub.status.idle": "2022-04-29T20:32:13.203458Z",
     "shell.execute_reply": "2022-04-29T20:32:13.202514Z"
    },
    "papermill": {
     "duration": 1.601222,
     "end_time": "2022-04-29T20:32:13.207614",
     "exception": false,
     "start_time": "2022-04-29T20:32:11.606392",
     "status": "completed"
    },
    "tags": []
   },
   "outputs": [
    {
     "name": "stdout",
     "output_type": "stream",
     "text": [
      "Setup Complete\n"
     ]
    }
   ],
   "source": [
    "from learntools.core import binder\n",
    "binder.bind(globals())\n",
    "from learntools.data_cleaning.ex3 import *\n",
    "print(\"Setup Complete\")"
   ]
  },
  {
   "cell_type": "markdown",
   "id": "41e0837a",
   "metadata": {
    "papermill": {
     "duration": 0.030981,
     "end_time": "2022-04-29T20:32:13.272134",
     "exception": false,
     "start_time": "2022-04-29T20:32:13.241153",
     "status": "completed"
    },
    "tags": []
   },
   "source": [
    "# Get our environment set up\n",
    "\n",
    "The first thing we'll need to do is load in the libraries and dataset we'll be using. We'll be working with a dataset containing information on earthquakes that occured between 1965 and 2016."
   ]
  },
  {
   "cell_type": "code",
   "execution_count": 2,
   "id": "45bfbfad",
   "metadata": {
    "execution": {
     "iopub.execute_input": "2022-04-29T20:32:13.337169Z",
     "iopub.status.busy": "2022-04-29T20:32:13.336855Z",
     "iopub.status.idle": "2022-04-29T20:32:13.445010Z",
     "shell.execute_reply": "2022-04-29T20:32:13.444008Z"
    },
    "papermill": {
     "duration": 0.144474,
     "end_time": "2022-04-29T20:32:13.447797",
     "exception": false,
     "start_time": "2022-04-29T20:32:13.303323",
     "status": "completed"
    },
    "tags": []
   },
   "outputs": [],
   "source": [
    "# modules we'll use\n",
    "import pandas as pd\n",
    "import numpy as np\n",
    "import seaborn as sns\n",
    "import datetime\n",
    "\n",
    "# read in our data\n",
    "earthquakes = pd.read_csv(\"../input/earthquake-database/database.csv\")\n",
    "\n",
    "# set seed for reproducibility\n",
    "np.random.seed(0)"
   ]
  },
  {
   "cell_type": "markdown",
   "id": "f0f7dbb2",
   "metadata": {
    "papermill": {
     "duration": 0.030604,
     "end_time": "2022-04-29T20:32:13.510175",
     "exception": false,
     "start_time": "2022-04-29T20:32:13.479571",
     "status": "completed"
    },
    "tags": []
   },
   "source": [
    "# 1) Check the data type of our date column\n",
    "\n",
    "You'll be working with the \"Date\" column from the `earthquakes` dataframe.  Investigate this column now: does it look like it contains dates?  What is the dtype of the column?"
   ]
  },
  {
   "cell_type": "code",
   "execution_count": 3,
   "id": "2669b4dc",
   "metadata": {
    "execution": {
     "iopub.execute_input": "2022-04-29T20:32:13.576546Z",
     "iopub.status.busy": "2022-04-29T20:32:13.575904Z",
     "iopub.status.idle": "2022-04-29T20:32:13.581849Z",
     "shell.execute_reply": "2022-04-29T20:32:13.580598Z"
    },
    "papermill": {
     "duration": 0.040375,
     "end_time": "2022-04-29T20:32:13.583837",
     "exception": false,
     "start_time": "2022-04-29T20:32:13.543462",
     "status": "completed"
    },
    "tags": []
   },
   "outputs": [
    {
     "name": "stdout",
     "output_type": "stream",
     "text": [
      "object\n"
     ]
    }
   ],
   "source": [
    "# TODO: Your code here!\n",
    "print(earthquakes['Date'].dtype)"
   ]
  },
  {
   "cell_type": "markdown",
   "id": "d922a26d",
   "metadata": {
    "papermill": {
     "duration": 0.03199,
     "end_time": "2022-04-29T20:32:13.647970",
     "exception": false,
     "start_time": "2022-04-29T20:32:13.615980",
     "status": "completed"
    },
    "tags": []
   },
   "source": [
    "Once you have answered the question above, run the code cell below to get credit for your work."
   ]
  },
  {
   "cell_type": "code",
   "execution_count": 4,
   "id": "ae979b7d",
   "metadata": {
    "execution": {
     "iopub.execute_input": "2022-04-29T20:32:13.713908Z",
     "iopub.status.busy": "2022-04-29T20:32:13.713241Z",
     "iopub.status.idle": "2022-04-29T20:32:13.724688Z",
     "shell.execute_reply": "2022-04-29T20:32:13.723738Z"
    },
    "papermill": {
     "duration": 0.048394,
     "end_time": "2022-04-29T20:32:13.727874",
     "exception": false,
     "start_time": "2022-04-29T20:32:13.679480",
     "status": "completed"
    },
    "tags": []
   },
   "outputs": [
    {
     "data": {
      "application/javascript": [
       "parent.postMessage({\"jupyterEvent\": \"custom.exercise_interaction\", \"data\": {\"outcomeType\": 1, \"valueTowardsCompletion\": 0.25, \"interactionType\": 1, \"questionType\": 4, \"questionId\": \"1_CheckDtype\", \"learnToolsVersion\": \"0.3.4\", \"failureMessage\": \"\", \"exceptionClass\": \"\", \"trace\": \"\"}}, \"*\")"
      ],
      "text/plain": [
       "<IPython.core.display.Javascript object>"
      ]
     },
     "metadata": {},
     "output_type": "display_data"
    },
    {
     "data": {
      "text/markdown": [
       "<span style=\"color:#33cc33\">Correct:</span> \n",
       "\n",
       "The \"Date\" column in the `earthquakes` DataFrame does have dates.  The dtype is \"object\"."
      ],
      "text/plain": [
       "Correct: \n",
       "\n",
       "The \"Date\" column in the `earthquakes` DataFrame does have dates.  The dtype is \"object\"."
      ]
     },
     "metadata": {},
     "output_type": "display_data"
    }
   ],
   "source": [
    "# Check your answer (Run this code cell to receive credit!)\n",
    "q1.check()"
   ]
  },
  {
   "cell_type": "code",
   "execution_count": 5,
   "id": "581a471a",
   "metadata": {
    "execution": {
     "iopub.execute_input": "2022-04-29T20:32:13.798339Z",
     "iopub.status.busy": "2022-04-29T20:32:13.797728Z",
     "iopub.status.idle": "2022-04-29T20:32:13.801615Z",
     "shell.execute_reply": "2022-04-29T20:32:13.800923Z"
    },
    "papermill": {
     "duration": 0.041559,
     "end_time": "2022-04-29T20:32:13.803808",
     "exception": false,
     "start_time": "2022-04-29T20:32:13.762249",
     "status": "completed"
    },
    "tags": []
   },
   "outputs": [],
   "source": [
    "# Line below will give you a hint\n",
    "#q1.hint()"
   ]
  },
  {
   "cell_type": "markdown",
   "id": "13ddcebf",
   "metadata": {
    "papermill": {
     "duration": 0.032408,
     "end_time": "2022-04-29T20:32:13.869618",
     "exception": false,
     "start_time": "2022-04-29T20:32:13.837210",
     "status": "completed"
    },
    "tags": []
   },
   "source": [
    "# 2) Convert our date columns to datetime\n",
    "\n",
    "Most of the entries in the \"Date\" column follow the same format: \"month/day/four-digit year\".  However, the entry at index 3378 follows a completely different pattern.  Run the code cell below to see this."
   ]
  },
  {
   "cell_type": "code",
   "execution_count": 6,
   "id": "97d8f14c",
   "metadata": {
    "execution": {
     "iopub.execute_input": "2022-04-29T20:32:13.938157Z",
     "iopub.status.busy": "2022-04-29T20:32:13.937539Z",
     "iopub.status.idle": "2022-04-29T20:32:13.975631Z",
     "shell.execute_reply": "2022-04-29T20:32:13.974759Z"
    },
    "papermill": {
     "duration": 0.075701,
     "end_time": "2022-04-29T20:32:13.977966",
     "exception": false,
     "start_time": "2022-04-29T20:32:13.902265",
     "status": "completed"
    },
    "tags": []
   },
   "outputs": [
    {
     "data": {
      "text/html": [
       "<div>\n",
       "<style scoped>\n",
       "    .dataframe tbody tr th:only-of-type {\n",
       "        vertical-align: middle;\n",
       "    }\n",
       "\n",
       "    .dataframe tbody tr th {\n",
       "        vertical-align: top;\n",
       "    }\n",
       "\n",
       "    .dataframe thead th {\n",
       "        text-align: right;\n",
       "    }\n",
       "</style>\n",
       "<table border=\"1\" class=\"dataframe\">\n",
       "  <thead>\n",
       "    <tr style=\"text-align: right;\">\n",
       "      <th></th>\n",
       "      <th>Date</th>\n",
       "      <th>Time</th>\n",
       "      <th>Latitude</th>\n",
       "      <th>Longitude</th>\n",
       "      <th>Type</th>\n",
       "      <th>Depth</th>\n",
       "      <th>Depth Error</th>\n",
       "      <th>Depth Seismic Stations</th>\n",
       "      <th>Magnitude</th>\n",
       "      <th>Magnitude Type</th>\n",
       "      <th>...</th>\n",
       "      <th>Magnitude Seismic Stations</th>\n",
       "      <th>Azimuthal Gap</th>\n",
       "      <th>Horizontal Distance</th>\n",
       "      <th>Horizontal Error</th>\n",
       "      <th>Root Mean Square</th>\n",
       "      <th>ID</th>\n",
       "      <th>Source</th>\n",
       "      <th>Location Source</th>\n",
       "      <th>Magnitude Source</th>\n",
       "      <th>Status</th>\n",
       "    </tr>\n",
       "  </thead>\n",
       "  <tbody>\n",
       "    <tr>\n",
       "      <th>3378</th>\n",
       "      <td>1975-02-23T02:58:41.000Z</td>\n",
       "      <td>1975-02-23T02:58:41.000Z</td>\n",
       "      <td>8.017</td>\n",
       "      <td>124.075</td>\n",
       "      <td>Earthquake</td>\n",
       "      <td>623.0</td>\n",
       "      <td>NaN</td>\n",
       "      <td>NaN</td>\n",
       "      <td>5.6</td>\n",
       "      <td>MB</td>\n",
       "      <td>...</td>\n",
       "      <td>NaN</td>\n",
       "      <td>NaN</td>\n",
       "      <td>NaN</td>\n",
       "      <td>NaN</td>\n",
       "      <td>NaN</td>\n",
       "      <td>USP0000A09</td>\n",
       "      <td>US</td>\n",
       "      <td>US</td>\n",
       "      <td>US</td>\n",
       "      <td>Reviewed</td>\n",
       "    </tr>\n",
       "    <tr>\n",
       "      <th>3379</th>\n",
       "      <td>02/23/1975</td>\n",
       "      <td>03:53:36</td>\n",
       "      <td>-21.727</td>\n",
       "      <td>-71.356</td>\n",
       "      <td>Earthquake</td>\n",
       "      <td>33.0</td>\n",
       "      <td>NaN</td>\n",
       "      <td>NaN</td>\n",
       "      <td>5.6</td>\n",
       "      <td>MB</td>\n",
       "      <td>...</td>\n",
       "      <td>NaN</td>\n",
       "      <td>NaN</td>\n",
       "      <td>NaN</td>\n",
       "      <td>NaN</td>\n",
       "      <td>NaN</td>\n",
       "      <td>USP0000A0A</td>\n",
       "      <td>US</td>\n",
       "      <td>US</td>\n",
       "      <td>US</td>\n",
       "      <td>Reviewed</td>\n",
       "    </tr>\n",
       "    <tr>\n",
       "      <th>3380</th>\n",
       "      <td>02/23/1975</td>\n",
       "      <td>07:34:11</td>\n",
       "      <td>-10.879</td>\n",
       "      <td>166.667</td>\n",
       "      <td>Earthquake</td>\n",
       "      <td>33.0</td>\n",
       "      <td>NaN</td>\n",
       "      <td>NaN</td>\n",
       "      <td>5.5</td>\n",
       "      <td>MS</td>\n",
       "      <td>...</td>\n",
       "      <td>NaN</td>\n",
       "      <td>NaN</td>\n",
       "      <td>NaN</td>\n",
       "      <td>NaN</td>\n",
       "      <td>NaN</td>\n",
       "      <td>USP0000A0C</td>\n",
       "      <td>US</td>\n",
       "      <td>US</td>\n",
       "      <td>US</td>\n",
       "      <td>Reviewed</td>\n",
       "    </tr>\n",
       "    <tr>\n",
       "      <th>3381</th>\n",
       "      <td>02/25/1975</td>\n",
       "      <td>05:20:05</td>\n",
       "      <td>-7.388</td>\n",
       "      <td>149.798</td>\n",
       "      <td>Earthquake</td>\n",
       "      <td>33.0</td>\n",
       "      <td>NaN</td>\n",
       "      <td>NaN</td>\n",
       "      <td>5.5</td>\n",
       "      <td>MB</td>\n",
       "      <td>...</td>\n",
       "      <td>NaN</td>\n",
       "      <td>NaN</td>\n",
       "      <td>NaN</td>\n",
       "      <td>NaN</td>\n",
       "      <td>NaN</td>\n",
       "      <td>USP0000A12</td>\n",
       "      <td>US</td>\n",
       "      <td>US</td>\n",
       "      <td>US</td>\n",
       "      <td>Reviewed</td>\n",
       "    </tr>\n",
       "    <tr>\n",
       "      <th>3382</th>\n",
       "      <td>02/26/1975</td>\n",
       "      <td>04:48:55</td>\n",
       "      <td>85.047</td>\n",
       "      <td>97.969</td>\n",
       "      <td>Earthquake</td>\n",
       "      <td>33.0</td>\n",
       "      <td>NaN</td>\n",
       "      <td>NaN</td>\n",
       "      <td>5.6</td>\n",
       "      <td>MS</td>\n",
       "      <td>...</td>\n",
       "      <td>NaN</td>\n",
       "      <td>NaN</td>\n",
       "      <td>NaN</td>\n",
       "      <td>NaN</td>\n",
       "      <td>NaN</td>\n",
       "      <td>USP0000A1H</td>\n",
       "      <td>US</td>\n",
       "      <td>US</td>\n",
       "      <td>US</td>\n",
       "      <td>Reviewed</td>\n",
       "    </tr>\n",
       "  </tbody>\n",
       "</table>\n",
       "<p>5 rows × 21 columns</p>\n",
       "</div>"
      ],
      "text/plain": [
       "                          Date                      Time  Latitude  Longitude  \\\n",
       "3378  1975-02-23T02:58:41.000Z  1975-02-23T02:58:41.000Z     8.017    124.075   \n",
       "3379                02/23/1975                  03:53:36   -21.727    -71.356   \n",
       "3380                02/23/1975                  07:34:11   -10.879    166.667   \n",
       "3381                02/25/1975                  05:20:05    -7.388    149.798   \n",
       "3382                02/26/1975                  04:48:55    85.047     97.969   \n",
       "\n",
       "            Type  Depth  Depth Error  Depth Seismic Stations  Magnitude  \\\n",
       "3378  Earthquake  623.0          NaN                     NaN        5.6   \n",
       "3379  Earthquake   33.0          NaN                     NaN        5.6   \n",
       "3380  Earthquake   33.0          NaN                     NaN        5.5   \n",
       "3381  Earthquake   33.0          NaN                     NaN        5.5   \n",
       "3382  Earthquake   33.0          NaN                     NaN        5.6   \n",
       "\n",
       "     Magnitude Type  ...  Magnitude Seismic Stations  Azimuthal Gap  \\\n",
       "3378             MB  ...                         NaN            NaN   \n",
       "3379             MB  ...                         NaN            NaN   \n",
       "3380             MS  ...                         NaN            NaN   \n",
       "3381             MB  ...                         NaN            NaN   \n",
       "3382             MS  ...                         NaN            NaN   \n",
       "\n",
       "      Horizontal Distance  Horizontal Error  Root Mean Square          ID  \\\n",
       "3378                  NaN               NaN               NaN  USP0000A09   \n",
       "3379                  NaN               NaN               NaN  USP0000A0A   \n",
       "3380                  NaN               NaN               NaN  USP0000A0C   \n",
       "3381                  NaN               NaN               NaN  USP0000A12   \n",
       "3382                  NaN               NaN               NaN  USP0000A1H   \n",
       "\n",
       "     Source Location Source Magnitude Source    Status  \n",
       "3378     US              US               US  Reviewed  \n",
       "3379     US              US               US  Reviewed  \n",
       "3380     US              US               US  Reviewed  \n",
       "3381     US              US               US  Reviewed  \n",
       "3382     US              US               US  Reviewed  \n",
       "\n",
       "[5 rows x 21 columns]"
      ]
     },
     "execution_count": 6,
     "metadata": {},
     "output_type": "execute_result"
    }
   ],
   "source": [
    "earthquakes[3378:3383]"
   ]
  },
  {
   "cell_type": "markdown",
   "id": "3b954355",
   "metadata": {
    "papermill": {
     "duration": 0.03343,
     "end_time": "2022-04-29T20:32:14.045443",
     "exception": false,
     "start_time": "2022-04-29T20:32:14.012013",
     "status": "completed"
    },
    "tags": []
   },
   "source": [
    "This does appear to be an issue with data entry: ideally, all entries in the column have the same format.  We can get an idea of how widespread this issue is by checking the length of each entry in the \"Date\" column."
   ]
  },
  {
   "cell_type": "code",
   "execution_count": 7,
   "id": "1add4cca",
   "metadata": {
    "execution": {
     "iopub.execute_input": "2022-04-29T20:32:14.113723Z",
     "iopub.status.busy": "2022-04-29T20:32:14.113378Z",
     "iopub.status.idle": "2022-04-29T20:32:14.142940Z",
     "shell.execute_reply": "2022-04-29T20:32:14.142045Z"
    },
    "papermill": {
     "duration": 0.066312,
     "end_time": "2022-04-29T20:32:14.145175",
     "exception": false,
     "start_time": "2022-04-29T20:32:14.078863",
     "status": "completed"
    },
    "tags": []
   },
   "outputs": [
    {
     "data": {
      "text/plain": [
       "10    23409\n",
       "24        3\n",
       "Name: Date, dtype: int64"
      ]
     },
     "execution_count": 7,
     "metadata": {},
     "output_type": "execute_result"
    }
   ],
   "source": [
    "date_lengths = earthquakes.Date.str.len()\n",
    "date_lengths.value_counts()"
   ]
  },
  {
   "cell_type": "markdown",
   "id": "d079f4b5",
   "metadata": {
    "papermill": {
     "duration": 0.034703,
     "end_time": "2022-04-29T20:32:14.213591",
     "exception": false,
     "start_time": "2022-04-29T20:32:14.178888",
     "status": "completed"
    },
    "tags": []
   },
   "source": [
    "Looks like there are two more rows that has a date in a different format.  Run the code cell below to obtain the indices corresponding to those rows and print the data."
   ]
  },
  {
   "cell_type": "code",
   "execution_count": 8,
   "id": "6b303921",
   "metadata": {
    "execution": {
     "iopub.execute_input": "2022-04-29T20:32:14.282775Z",
     "iopub.status.busy": "2022-04-29T20:32:14.281909Z",
     "iopub.status.idle": "2022-04-29T20:32:14.311892Z",
     "shell.execute_reply": "2022-04-29T20:32:14.310649Z"
    },
    "papermill": {
     "duration": 0.06791,
     "end_time": "2022-04-29T20:32:14.315032",
     "exception": false,
     "start_time": "2022-04-29T20:32:14.247122",
     "status": "completed"
    },
    "tags": []
   },
   "outputs": [
    {
     "name": "stdout",
     "output_type": "stream",
     "text": [
      "Indices with corrupted data: [ 3378  7512 20650]\n"
     ]
    },
    {
     "data": {
      "text/html": [
       "<div>\n",
       "<style scoped>\n",
       "    .dataframe tbody tr th:only-of-type {\n",
       "        vertical-align: middle;\n",
       "    }\n",
       "\n",
       "    .dataframe tbody tr th {\n",
       "        vertical-align: top;\n",
       "    }\n",
       "\n",
       "    .dataframe thead th {\n",
       "        text-align: right;\n",
       "    }\n",
       "</style>\n",
       "<table border=\"1\" class=\"dataframe\">\n",
       "  <thead>\n",
       "    <tr style=\"text-align: right;\">\n",
       "      <th></th>\n",
       "      <th>Date</th>\n",
       "      <th>Time</th>\n",
       "      <th>Latitude</th>\n",
       "      <th>Longitude</th>\n",
       "      <th>Type</th>\n",
       "      <th>Depth</th>\n",
       "      <th>Depth Error</th>\n",
       "      <th>Depth Seismic Stations</th>\n",
       "      <th>Magnitude</th>\n",
       "      <th>Magnitude Type</th>\n",
       "      <th>...</th>\n",
       "      <th>Magnitude Seismic Stations</th>\n",
       "      <th>Azimuthal Gap</th>\n",
       "      <th>Horizontal Distance</th>\n",
       "      <th>Horizontal Error</th>\n",
       "      <th>Root Mean Square</th>\n",
       "      <th>ID</th>\n",
       "      <th>Source</th>\n",
       "      <th>Location Source</th>\n",
       "      <th>Magnitude Source</th>\n",
       "      <th>Status</th>\n",
       "    </tr>\n",
       "  </thead>\n",
       "  <tbody>\n",
       "    <tr>\n",
       "      <th>3378</th>\n",
       "      <td>1975-02-23T02:58:41.000Z</td>\n",
       "      <td>1975-02-23T02:58:41.000Z</td>\n",
       "      <td>8.017</td>\n",
       "      <td>124.075</td>\n",
       "      <td>Earthquake</td>\n",
       "      <td>623.0</td>\n",
       "      <td>NaN</td>\n",
       "      <td>NaN</td>\n",
       "      <td>5.6</td>\n",
       "      <td>MB</td>\n",
       "      <td>...</td>\n",
       "      <td>NaN</td>\n",
       "      <td>NaN</td>\n",
       "      <td>NaN</td>\n",
       "      <td>NaN</td>\n",
       "      <td>NaN</td>\n",
       "      <td>USP0000A09</td>\n",
       "      <td>US</td>\n",
       "      <td>US</td>\n",
       "      <td>US</td>\n",
       "      <td>Reviewed</td>\n",
       "    </tr>\n",
       "    <tr>\n",
       "      <th>7512</th>\n",
       "      <td>1985-04-28T02:53:41.530Z</td>\n",
       "      <td>1985-04-28T02:53:41.530Z</td>\n",
       "      <td>-32.998</td>\n",
       "      <td>-71.766</td>\n",
       "      <td>Earthquake</td>\n",
       "      <td>33.0</td>\n",
       "      <td>NaN</td>\n",
       "      <td>NaN</td>\n",
       "      <td>5.6</td>\n",
       "      <td>MW</td>\n",
       "      <td>...</td>\n",
       "      <td>NaN</td>\n",
       "      <td>NaN</td>\n",
       "      <td>NaN</td>\n",
       "      <td>NaN</td>\n",
       "      <td>1.30</td>\n",
       "      <td>USP0002E81</td>\n",
       "      <td>US</td>\n",
       "      <td>US</td>\n",
       "      <td>HRV</td>\n",
       "      <td>Reviewed</td>\n",
       "    </tr>\n",
       "    <tr>\n",
       "      <th>20650</th>\n",
       "      <td>2011-03-13T02:23:34.520Z</td>\n",
       "      <td>2011-03-13T02:23:34.520Z</td>\n",
       "      <td>36.344</td>\n",
       "      <td>142.344</td>\n",
       "      <td>Earthquake</td>\n",
       "      <td>10.1</td>\n",
       "      <td>13.9</td>\n",
       "      <td>289.0</td>\n",
       "      <td>5.8</td>\n",
       "      <td>MWC</td>\n",
       "      <td>...</td>\n",
       "      <td>NaN</td>\n",
       "      <td>32.3</td>\n",
       "      <td>NaN</td>\n",
       "      <td>NaN</td>\n",
       "      <td>1.06</td>\n",
       "      <td>USP000HWQP</td>\n",
       "      <td>US</td>\n",
       "      <td>US</td>\n",
       "      <td>GCMT</td>\n",
       "      <td>Reviewed</td>\n",
       "    </tr>\n",
       "  </tbody>\n",
       "</table>\n",
       "<p>3 rows × 21 columns</p>\n",
       "</div>"
      ],
      "text/plain": [
       "                           Date                      Time  Latitude  \\\n",
       "3378   1975-02-23T02:58:41.000Z  1975-02-23T02:58:41.000Z     8.017   \n",
       "7512   1985-04-28T02:53:41.530Z  1985-04-28T02:53:41.530Z   -32.998   \n",
       "20650  2011-03-13T02:23:34.520Z  2011-03-13T02:23:34.520Z    36.344   \n",
       "\n",
       "       Longitude        Type  Depth  Depth Error  Depth Seismic Stations  \\\n",
       "3378     124.075  Earthquake  623.0          NaN                     NaN   \n",
       "7512     -71.766  Earthquake   33.0          NaN                     NaN   \n",
       "20650    142.344  Earthquake   10.1         13.9                   289.0   \n",
       "\n",
       "       Magnitude Magnitude Type  ...  Magnitude Seismic Stations  \\\n",
       "3378         5.6             MB  ...                         NaN   \n",
       "7512         5.6             MW  ...                         NaN   \n",
       "20650        5.8            MWC  ...                         NaN   \n",
       "\n",
       "       Azimuthal Gap  Horizontal Distance  Horizontal Error  Root Mean Square  \\\n",
       "3378             NaN                  NaN               NaN               NaN   \n",
       "7512             NaN                  NaN               NaN              1.30   \n",
       "20650           32.3                  NaN               NaN              1.06   \n",
       "\n",
       "               ID Source Location Source Magnitude Source    Status  \n",
       "3378   USP0000A09     US              US               US  Reviewed  \n",
       "7512   USP0002E81     US              US              HRV  Reviewed  \n",
       "20650  USP000HWQP     US              US             GCMT  Reviewed  \n",
       "\n",
       "[3 rows x 21 columns]"
      ]
     },
     "execution_count": 8,
     "metadata": {},
     "output_type": "execute_result"
    }
   ],
   "source": [
    "indices = np.where([date_lengths == 24])[1]\n",
    "print('Indices with corrupted data:', indices)\n",
    "earthquakes.loc[indices]"
   ]
  },
  {
   "cell_type": "markdown",
   "id": "974ea1f6",
   "metadata": {
    "papermill": {
     "duration": 0.034812,
     "end_time": "2022-04-29T20:32:14.385275",
     "exception": false,
     "start_time": "2022-04-29T20:32:14.350463",
     "status": "completed"
    },
    "tags": []
   },
   "source": [
    "Given all of this information, it's your turn to create a new column \"date_parsed\" in the `earthquakes` dataset that has correctly parsed dates in it.  \n",
    "\n",
    "**Note**: When completing this problem, you are allowed to (but are not required to) amend the entries in the \"Date\" and \"Time\" columns.  Do not remove any rows from the dataset."
   ]
  },
  {
   "cell_type": "code",
   "execution_count": 9,
   "id": "c9d7c462",
   "metadata": {
    "execution": {
     "iopub.execute_input": "2022-04-29T20:32:14.456942Z",
     "iopub.status.busy": "2022-04-29T20:32:14.456582Z",
     "iopub.status.idle": "2022-04-29T20:32:14.533979Z",
     "shell.execute_reply": "2022-04-29T20:32:14.532906Z"
    },
    "papermill": {
     "duration": 0.115853,
     "end_time": "2022-04-29T20:32:14.536166",
     "exception": false,
     "start_time": "2022-04-29T20:32:14.420313",
     "status": "completed"
    },
    "tags": []
   },
   "outputs": [
    {
     "data": {
      "application/javascript": [
       "parent.postMessage({\"jupyterEvent\": \"custom.exercise_interaction\", \"data\": {\"outcomeType\": 1, \"valueTowardsCompletion\": 0.25, \"interactionType\": 1, \"questionType\": 2, \"questionId\": \"2_ConvertToDatetime\", \"learnToolsVersion\": \"0.3.4\", \"failureMessage\": \"\", \"exceptionClass\": \"\", \"trace\": \"\"}}, \"*\")"
      ],
      "text/plain": [
       "<IPython.core.display.Javascript object>"
      ]
     },
     "metadata": {},
     "output_type": "display_data"
    },
    {
     "data": {
      "text/markdown": [
       "<span style=\"color:#33cc33\">Correct</span>"
      ],
      "text/plain": [
       "Correct"
      ]
     },
     "metadata": {},
     "output_type": "display_data"
    }
   ],
   "source": [
    "# TODO: Your code here\n",
    "earthquakes.loc[3378, \"Date\"] = \"02/23/1975\"\n",
    "earthquakes.loc[7512, \"Date\"] = \"04/28/1985\"\n",
    "earthquakes.loc[20650, \"Date\"] = \"03/13/2011\"\n",
    "earthquakes['date_parsed'] = pd.to_datetime(earthquakes['Date'], format=\"%m/%d/%Y\")\n",
    "# earthquakes['time_parsed'] = pd.to_datetime(earthquakes['Time'], format=\"%H:%M:%S\")\n",
    "# Check your answer\n",
    "q2.check()"
   ]
  },
  {
   "cell_type": "code",
   "execution_count": 10,
   "id": "ed8e479a",
   "metadata": {
    "execution": {
     "iopub.execute_input": "2022-04-29T20:32:14.610838Z",
     "iopub.status.busy": "2022-04-29T20:32:14.610522Z",
     "iopub.status.idle": "2022-04-29T20:32:14.614299Z",
     "shell.execute_reply": "2022-04-29T20:32:14.613511Z"
    },
    "papermill": {
     "duration": 0.043472,
     "end_time": "2022-04-29T20:32:14.616032",
     "exception": false,
     "start_time": "2022-04-29T20:32:14.572560",
     "status": "completed"
    },
    "tags": []
   },
   "outputs": [],
   "source": [
    "# Lines below will give you a hint or solution code\n",
    "#q2.hint()\n",
    "#q2.solution()"
   ]
  },
  {
   "cell_type": "markdown",
   "id": "e9170be0",
   "metadata": {
    "papermill": {
     "duration": 0.03568,
     "end_time": "2022-04-29T20:32:14.687847",
     "exception": false,
     "start_time": "2022-04-29T20:32:14.652167",
     "status": "completed"
    },
    "tags": []
   },
   "source": [
    "# 3) Select the day of the month\n",
    "\n",
    "Create a Pandas Series `day_of_month_earthquakes` containing the day of the month from the \"date_parsed\" column."
   ]
  },
  {
   "cell_type": "code",
   "execution_count": 11,
   "id": "4527e070",
   "metadata": {
    "execution": {
     "iopub.execute_input": "2022-04-29T20:32:14.771030Z",
     "iopub.status.busy": "2022-04-29T20:32:14.770403Z",
     "iopub.status.idle": "2022-04-29T20:32:14.781543Z",
     "shell.execute_reply": "2022-04-29T20:32:14.780929Z"
    },
    "papermill": {
     "duration": 0.059803,
     "end_time": "2022-04-29T20:32:14.783633",
     "exception": false,
     "start_time": "2022-04-29T20:32:14.723830",
     "status": "completed"
    },
    "tags": []
   },
   "outputs": [
    {
     "data": {
      "application/javascript": [
       "parent.postMessage({\"jupyterEvent\": \"custom.exercise_interaction\", \"data\": {\"outcomeType\": 1, \"valueTowardsCompletion\": 0.25, \"interactionType\": 1, \"questionType\": 1, \"questionId\": \"3_DayOfMonth\", \"learnToolsVersion\": \"0.3.4\", \"failureMessage\": \"\", \"exceptionClass\": \"\", \"trace\": \"\"}}, \"*\")"
      ],
      "text/plain": [
       "<IPython.core.display.Javascript object>"
      ]
     },
     "metadata": {},
     "output_type": "display_data"
    },
    {
     "data": {
      "text/markdown": [
       "<span style=\"color:#33cc33\">Correct</span>"
      ],
      "text/plain": [
       "Correct"
      ]
     },
     "metadata": {},
     "output_type": "display_data"
    }
   ],
   "source": [
    "# try to get the day of the month from the date column\n",
    "day_of_month_earthquakes = earthquakes['date_parsed'].dt.day\n",
    "\n",
    "# Check your answer\n",
    "q3.check()"
   ]
  },
  {
   "cell_type": "code",
   "execution_count": 12,
   "id": "ca244115",
   "metadata": {
    "execution": {
     "iopub.execute_input": "2022-04-29T20:32:14.878981Z",
     "iopub.status.busy": "2022-04-29T20:32:14.878487Z",
     "iopub.status.idle": "2022-04-29T20:32:14.882696Z",
     "shell.execute_reply": "2022-04-29T20:32:14.881759Z"
    },
    "papermill": {
     "duration": 0.054934,
     "end_time": "2022-04-29T20:32:14.884861",
     "exception": false,
     "start_time": "2022-04-29T20:32:14.829927",
     "status": "completed"
    },
    "tags": []
   },
   "outputs": [],
   "source": [
    "# Lines below will give you a hint or solution code\n",
    "#q3.hint()\n",
    "#q3.solution()"
   ]
  },
  {
   "cell_type": "markdown",
   "id": "f9165608",
   "metadata": {
    "papermill": {
     "duration": 0.037051,
     "end_time": "2022-04-29T20:32:14.960782",
     "exception": false,
     "start_time": "2022-04-29T20:32:14.923731",
     "status": "completed"
    },
    "tags": []
   },
   "source": [
    "# 4) Plot the day of the month to check the date parsing\n",
    "\n",
    "Plot the days of the month from your earthquake dataset."
   ]
  },
  {
   "cell_type": "code",
   "execution_count": 13,
   "id": "aead4beb",
   "metadata": {
    "execution": {
     "iopub.execute_input": "2022-04-29T20:32:15.050212Z",
     "iopub.status.busy": "2022-04-29T20:32:15.049869Z",
     "iopub.status.idle": "2022-04-29T20:32:15.344577Z",
     "shell.execute_reply": "2022-04-29T20:32:15.343552Z"
    },
    "papermill": {
     "duration": 0.344714,
     "end_time": "2022-04-29T20:32:15.346954",
     "exception": false,
     "start_time": "2022-04-29T20:32:15.002240",
     "status": "completed"
    },
    "tags": []
   },
   "outputs": [
    {
     "name": "stderr",
     "output_type": "stream",
     "text": [
      "/opt/conda/lib/python3.7/site-packages/seaborn/distributions.py:2619: FutureWarning: `distplot` is a deprecated function and will be removed in a future version. Please adapt your code to use either `displot` (a figure-level function with similar flexibility) or `histplot` (an axes-level function for histograms).\n",
      "  warnings.warn(msg, FutureWarning)\n"
     ]
    },
    {
     "data": {
      "text/plain": [
       "<AxesSubplot:xlabel='date_parsed'>"
      ]
     },
     "execution_count": 13,
     "metadata": {},
     "output_type": "execute_result"
    },
    {
     "data": {
      "image/png": "[encoded data removed]",
      "text/plain": [
       "<Figure size 432x288 with 1 Axes>"
      ]
     },
     "metadata": {
      "needs_background": "light"
     },
     "output_type": "display_data"
    }
   ],
   "source": [
    "# TODO: Your code here!\n",
    "# remove na's\n",
    "day_of_month_earthquakes = day_of_month_earthquakes.dropna()\n",
    "\n",
    "# plot the day of the month\n",
    "sns.distplot(day_of_month_earthquakes, kde=False, bins=31)"
   ]
  },
  {
   "cell_type": "markdown",
   "id": "2f2e81d2",
   "metadata": {
    "papermill": {
     "duration": 0.039481,
     "end_time": "2022-04-29T20:32:15.427216",
     "exception": false,
     "start_time": "2022-04-29T20:32:15.387735",
     "status": "completed"
    },
    "tags": []
   },
   "source": [
    "Does the graph make sense to you?"
   ]
  },
  {
   "cell_type": "code",
   "execution_count": 14,
   "id": "950b6d28",
   "metadata": {
    "execution": {
     "iopub.execute_input": "2022-04-29T20:32:15.506744Z",
     "iopub.status.busy": "2022-04-29T20:32:15.506410Z",
     "iopub.status.idle": "2022-04-29T20:32:15.515266Z",
     "shell.execute_reply": "2022-04-29T20:32:15.514583Z"
    },
    "papermill": {
     "duration": 0.051127,
     "end_time": "2022-04-29T20:32:15.517252",
     "exception": false,
     "start_time": "2022-04-29T20:32:15.466125",
     "status": "completed"
    },
    "tags": []
   },
   "outputs": [
    {
     "data": {
      "application/javascript": [
       "parent.postMessage({\"jupyterEvent\": \"custom.exercise_interaction\", \"data\": {\"outcomeType\": 1, \"valueTowardsCompletion\": 0.25, \"interactionType\": 1, \"questionType\": 4, \"questionId\": \"4_PlotDayOfMonth\", \"learnToolsVersion\": \"0.3.4\", \"failureMessage\": \"\", \"exceptionClass\": \"\", \"trace\": \"\"}}, \"*\")"
      ],
      "text/plain": [
       "<IPython.core.display.Javascript object>"
      ]
     },
     "metadata": {},
     "output_type": "display_data"
    },
    {
     "data": {
      "text/markdown": [
       "<span style=\"color:#33cc33\">Correct:</span> \n",
       "\n",
       "The graph should make sense: it shows a relatively even distribution in days of the month,which is what we would expect."
      ],
      "text/plain": [
       "Correct: \n",
       "\n",
       "The graph should make sense: it shows a relatively even distribution in days of the month,which is what we would expect."
      ]
     },
     "metadata": {},
     "output_type": "display_data"
    }
   ],
   "source": [
    "# Check your answer (Run this code cell to receive credit!)\n",
    "q4.check()"
   ]
  },
  {
   "cell_type": "code",
   "execution_count": 15,
   "id": "6285edc4",
   "metadata": {
    "execution": {
     "iopub.execute_input": "2022-04-29T20:32:15.600882Z",
     "iopub.status.busy": "2022-04-29T20:32:15.600511Z",
     "iopub.status.idle": "2022-04-29T20:32:15.604550Z",
     "shell.execute_reply": "2022-04-29T20:32:15.603647Z"
    },
    "papermill": {
     "duration": 0.047657,
     "end_time": "2022-04-29T20:32:15.606772",
     "exception": false,
     "start_time": "2022-04-29T20:32:15.559115",
     "status": "completed"
    },
    "tags": []
   },
   "outputs": [],
   "source": [
    "# Line below will give you a hint\n",
    "#q4.hint()"
   ]
  },
  {
   "cell_type": "markdown",
   "id": "c9f0e869",
   "metadata": {
    "papermill": {
     "duration": 0.043214,
     "end_time": "2022-04-29T20:32:15.691467",
     "exception": false,
     "start_time": "2022-04-29T20:32:15.648253",
     "status": "completed"
    },
    "tags": []
   },
   "source": [
    "# (Optional) Bonus Challenge\n",
    "\n",
    "For an extra challenge, you'll work with a [Smithsonian dataset](https://www.kaggle.com/smithsonian/volcanic-eruptions) that documents Earth's volcanoes and their eruptive history over the past 10,000 years \n",
    "\n",
    "Run the next code cell to load the data."
   ]
  },
  {
   "cell_type": "code",
   "execution_count": 16,
   "id": "9261e2de",
   "metadata": {
    "execution": {
     "iopub.execute_input": "2022-04-29T20:32:15.776521Z",
     "iopub.status.busy": "2022-04-29T20:32:15.775601Z",
     "iopub.status.idle": "2022-04-29T20:32:15.821403Z",
     "shell.execute_reply": "2022-04-29T20:32:15.820472Z"
    },
    "papermill": {
     "duration": 0.091959,
     "end_time": "2022-04-29T20:32:15.823953",
     "exception": false,
     "start_time": "2022-04-29T20:32:15.731994",
     "status": "completed"
    },
    "tags": []
   },
   "outputs": [
    {
     "data": {
      "text/html": [
       "<div>\n",
       "<style scoped>\n",
       "    .dataframe tbody tr th:only-of-type {\n",
       "        vertical-align: middle;\n",
       "    }\n",
       "\n",
       "    .dataframe tbody tr th {\n",
       "        vertical-align: top;\n",
       "    }\n",
       "\n",
       "    .dataframe thead th {\n",
       "        text-align: right;\n",
       "    }\n",
       "</style>\n",
       "<table border=\"1\" class=\"dataframe\">\n",
       "  <thead>\n",
       "    <tr style=\"text-align: right;\">\n",
       "      <th></th>\n",
       "      <th>Number</th>\n",
       "      <th>Name</th>\n",
       "      <th>Country</th>\n",
       "      <th>Region</th>\n",
       "      <th>Type</th>\n",
       "      <th>Activity Evidence</th>\n",
       "      <th>Last Known Eruption</th>\n",
       "      <th>Latitude</th>\n",
       "      <th>Longitude</th>\n",
       "      <th>Elevation (Meters)</th>\n",
       "      <th>Dominant Rock Type</th>\n",
       "      <th>Tectonic Setting</th>\n",
       "    </tr>\n",
       "  </thead>\n",
       "  <tbody>\n",
       "    <tr>\n",
       "      <th>0</th>\n",
       "      <td>210010</td>\n",
       "      <td>West Eifel Volcanic Field</td>\n",
       "      <td>Germany</td>\n",
       "      <td>Mediterranean and Western Asia</td>\n",
       "      <td>Maar(s)</td>\n",
       "      <td>Eruption Dated</td>\n",
       "      <td>8300 BCE</td>\n",
       "      <td>50.170</td>\n",
       "      <td>6.85</td>\n",
       "      <td>600</td>\n",
       "      <td>Foidite</td>\n",
       "      <td>Rift Zone / Continental Crust (&gt;25 km)</td>\n",
       "    </tr>\n",
       "    <tr>\n",
       "      <th>1</th>\n",
       "      <td>210020</td>\n",
       "      <td>Chaine des Puys</td>\n",
       "      <td>France</td>\n",
       "      <td>Mediterranean and Western Asia</td>\n",
       "      <td>Lava dome(s)</td>\n",
       "      <td>Eruption Dated</td>\n",
       "      <td>4040 BCE</td>\n",
       "      <td>45.775</td>\n",
       "      <td>2.97</td>\n",
       "      <td>1464</td>\n",
       "      <td>Basalt / Picro-Basalt</td>\n",
       "      <td>Rift Zone / Continental Crust (&gt;25 km)</td>\n",
       "    </tr>\n",
       "    <tr>\n",
       "      <th>2</th>\n",
       "      <td>210030</td>\n",
       "      <td>Olot Volcanic Field</td>\n",
       "      <td>Spain</td>\n",
       "      <td>Mediterranean and Western Asia</td>\n",
       "      <td>Pyroclastic cone(s)</td>\n",
       "      <td>Evidence Credible</td>\n",
       "      <td>Unknown</td>\n",
       "      <td>42.170</td>\n",
       "      <td>2.53</td>\n",
       "      <td>893</td>\n",
       "      <td>Trachybasalt / Tephrite Basanite</td>\n",
       "      <td>Intraplate / Continental Crust (&gt;25 km)</td>\n",
       "    </tr>\n",
       "    <tr>\n",
       "      <th>3</th>\n",
       "      <td>210040</td>\n",
       "      <td>Calatrava Volcanic Field</td>\n",
       "      <td>Spain</td>\n",
       "      <td>Mediterranean and Western Asia</td>\n",
       "      <td>Pyroclastic cone(s)</td>\n",
       "      <td>Eruption Dated</td>\n",
       "      <td>3600 BCE</td>\n",
       "      <td>38.870</td>\n",
       "      <td>-4.02</td>\n",
       "      <td>1117</td>\n",
       "      <td>Basalt / Picro-Basalt</td>\n",
       "      <td>Intraplate / Continental Crust (&gt;25 km)</td>\n",
       "    </tr>\n",
       "    <tr>\n",
       "      <th>4</th>\n",
       "      <td>211001</td>\n",
       "      <td>Larderello</td>\n",
       "      <td>Italy</td>\n",
       "      <td>Mediterranean and Western Asia</td>\n",
       "      <td>Explosion crater(s)</td>\n",
       "      <td>Eruption Observed</td>\n",
       "      <td>1282 CE</td>\n",
       "      <td>43.250</td>\n",
       "      <td>10.87</td>\n",
       "      <td>500</td>\n",
       "      <td>No Data</td>\n",
       "      <td>Subduction Zone / Continental Crust (&gt;25 km)</td>\n",
       "    </tr>\n",
       "  </tbody>\n",
       "</table>\n",
       "</div>"
      ],
      "text/plain": [
       "   Number                       Name  Country                          Region  \\\n",
       "0  210010  West Eifel Volcanic Field  Germany  Mediterranean and Western Asia   \n",
       "1  210020            Chaine des Puys   France  Mediterranean and Western Asia   \n",
       "2  210030        Olot Volcanic Field    Spain  Mediterranean and Western Asia   \n",
       "3  210040   Calatrava Volcanic Field    Spain  Mediterranean and Western Asia   \n",
       "4  211001                 Larderello    Italy  Mediterranean and Western Asia   \n",
       "\n",
       "                  Type  Activity Evidence Last Known Eruption  Latitude  \\\n",
       "0              Maar(s)     Eruption Dated            8300 BCE    50.170   \n",
       "1         Lava dome(s)     Eruption Dated            4040 BCE    45.775   \n",
       "2  Pyroclastic cone(s)  Evidence Credible             Unknown    42.170   \n",
       "3  Pyroclastic cone(s)     Eruption Dated            3600 BCE    38.870   \n",
       "4  Explosion crater(s)  Eruption Observed             1282 CE    43.250   \n",
       "\n",
       "   Longitude  Elevation (Meters)                Dominant Rock Type  \\\n",
       "0       6.85                 600                           Foidite   \n",
       "1       2.97                1464             Basalt / Picro-Basalt   \n",
       "2       2.53                 893  Trachybasalt / Tephrite Basanite   \n",
       "3      -4.02                1117             Basalt / Picro-Basalt   \n",
       "4      10.87                 500                           No Data   \n",
       "\n",
       "                               Tectonic Setting  \n",
       "0        Rift Zone / Continental Crust (>25 km)  \n",
       "1        Rift Zone / Continental Crust (>25 km)  \n",
       "2       Intraplate / Continental Crust (>25 km)  \n",
       "3       Intraplate / Continental Crust (>25 km)  \n",
       "4  Subduction Zone / Continental Crust (>25 km)  "
      ]
     },
     "execution_count": 16,
     "metadata": {},
     "output_type": "execute_result"
    }
   ],
   "source": [
    "volcanos = pd.read_csv(\"../input/volcanic-eruptions/database.csv\")\n",
    "volcanos.head()"
   ]
  },
  {
   "cell_type": "markdown",
   "id": "ba9c545a",
   "metadata": {
    "papermill": {
     "duration": 0.042976,
     "end_time": "2022-04-29T20:32:15.910164",
     "exception": false,
     "start_time": "2022-04-29T20:32:15.867188",
     "status": "completed"
    },
    "tags": []
   },
   "source": [
    "Try parsing the column \"Last Known Eruption\" from the `volcanos` dataframe. This column contains a mixture of text (\"Unknown\") and years both before the common era (BCE, also known as BC) and in the common era (CE, also known as AD)."
   ]
  },
  {
   "cell_type": "code",
   "execution_count": 17,
   "id": "5d385a3d",
   "metadata": {
    "execution": {
     "iopub.execute_input": "2022-04-29T20:32:15.995224Z",
     "iopub.status.busy": "2022-04-29T20:32:15.994924Z",
     "iopub.status.idle": "2022-04-29T20:32:16.005637Z",
     "shell.execute_reply": "2022-04-29T20:32:16.004761Z"
    },
    "papermill": {
     "duration": 0.055451,
     "end_time": "2022-04-29T20:32:16.007809",
     "exception": false,
     "start_time": "2022-04-29T20:32:15.952358",
     "status": "completed"
    },
    "tags": []
   },
   "outputs": [
    {
     "data": {
      "text/plain": [
       "764     Unknown\n",
       "1069    1996 CE\n",
       "34      1855 CE\n",
       "489     2016 CE\n",
       "9       1302 CE\n",
       "Name: Last Known Eruption, dtype: object"
      ]
     },
     "execution_count": 17,
     "metadata": {},
     "output_type": "execute_result"
    }
   ],
   "source": [
    "volcanos['Last Known Eruption'].sample(5)"
   ]
  },
  {
   "cell_type": "code",
   "execution_count": 18,
   "id": "34994bb2",
   "metadata": {
    "execution": {
     "iopub.execute_input": "2022-04-29T20:32:16.094417Z",
     "iopub.status.busy": "2022-04-29T20:32:16.093802Z",
     "iopub.status.idle": "2022-04-29T20:32:16.129633Z",
     "shell.execute_reply": "2022-04-29T20:32:16.128760Z"
    },
    "papermill": {
     "duration": 0.083029,
     "end_time": "2022-04-29T20:32:16.132067",
     "exception": false,
     "start_time": "2022-04-29T20:32:16.049038",
     "status": "completed"
    },
    "tags": []
   },
   "outputs": [
    {
     "data": {
      "text/html": [
       "<div>\n",
       "<style scoped>\n",
       "    .dataframe tbody tr th:only-of-type {\n",
       "        vertical-align: middle;\n",
       "    }\n",
       "\n",
       "    .dataframe tbody tr th {\n",
       "        vertical-align: top;\n",
       "    }\n",
       "\n",
       "    .dataframe thead th {\n",
       "        text-align: right;\n",
       "    }\n",
       "</style>\n",
       "<table border=\"1\" class=\"dataframe\">\n",
       "  <thead>\n",
       "    <tr style=\"text-align: right;\">\n",
       "      <th></th>\n",
       "      <th>Number</th>\n",
       "      <th>Name</th>\n",
       "      <th>Country</th>\n",
       "      <th>Region</th>\n",
       "      <th>Type</th>\n",
       "      <th>Activity Evidence</th>\n",
       "      <th>Last Known Eruption</th>\n",
       "      <th>Latitude</th>\n",
       "      <th>Longitude</th>\n",
       "      <th>Elevation (Meters)</th>\n",
       "      <th>Dominant Rock Type</th>\n",
       "      <th>Tectonic Setting</th>\n",
       "      <th>Last Known Eruption Year</th>\n",
       "      <th>Last Known Eruption BCE/CE</th>\n",
       "    </tr>\n",
       "  </thead>\n",
       "  <tbody>\n",
       "    <tr>\n",
       "      <th>0</th>\n",
       "      <td>210010</td>\n",
       "      <td>West Eifel Volcanic Field</td>\n",
       "      <td>Germany</td>\n",
       "      <td>Mediterranean and Western Asia</td>\n",
       "      <td>Maar(s)</td>\n",
       "      <td>Eruption Dated</td>\n",
       "      <td>8300 BCE</td>\n",
       "      <td>50.170</td>\n",
       "      <td>6.850</td>\n",
       "      <td>600</td>\n",
       "      <td>Foidite</td>\n",
       "      <td>Rift Zone / Continental Crust (&gt;25 km)</td>\n",
       "      <td>8300</td>\n",
       "      <td>BCE</td>\n",
       "    </tr>\n",
       "    <tr>\n",
       "      <th>1</th>\n",
       "      <td>210020</td>\n",
       "      <td>Chaine des Puys</td>\n",
       "      <td>France</td>\n",
       "      <td>Mediterranean and Western Asia</td>\n",
       "      <td>Lava dome(s)</td>\n",
       "      <td>Eruption Dated</td>\n",
       "      <td>4040 BCE</td>\n",
       "      <td>45.775</td>\n",
       "      <td>2.970</td>\n",
       "      <td>1464</td>\n",
       "      <td>Basalt / Picro-Basalt</td>\n",
       "      <td>Rift Zone / Continental Crust (&gt;25 km)</td>\n",
       "      <td>4040</td>\n",
       "      <td>BCE</td>\n",
       "    </tr>\n",
       "    <tr>\n",
       "      <th>2</th>\n",
       "      <td>210030</td>\n",
       "      <td>Olot Volcanic Field</td>\n",
       "      <td>Spain</td>\n",
       "      <td>Mediterranean and Western Asia</td>\n",
       "      <td>Pyroclastic cone(s)</td>\n",
       "      <td>Evidence Credible</td>\n",
       "      <td>NaN</td>\n",
       "      <td>42.170</td>\n",
       "      <td>2.530</td>\n",
       "      <td>893</td>\n",
       "      <td>Trachybasalt / Tephrite Basanite</td>\n",
       "      <td>Intraplate / Continental Crust (&gt;25 km)</td>\n",
       "      <td>NaN</td>\n",
       "      <td>NaN</td>\n",
       "    </tr>\n",
       "    <tr>\n",
       "      <th>3</th>\n",
       "      <td>210040</td>\n",
       "      <td>Calatrava Volcanic Field</td>\n",
       "      <td>Spain</td>\n",
       "      <td>Mediterranean and Western Asia</td>\n",
       "      <td>Pyroclastic cone(s)</td>\n",
       "      <td>Eruption Dated</td>\n",
       "      <td>3600 BCE</td>\n",
       "      <td>38.870</td>\n",
       "      <td>-4.020</td>\n",
       "      <td>1117</td>\n",
       "      <td>Basalt / Picro-Basalt</td>\n",
       "      <td>Intraplate / Continental Crust (&gt;25 km)</td>\n",
       "      <td>3600</td>\n",
       "      <td>BCE</td>\n",
       "    </tr>\n",
       "    <tr>\n",
       "      <th>4</th>\n",
       "      <td>211001</td>\n",
       "      <td>Larderello</td>\n",
       "      <td>Italy</td>\n",
       "      <td>Mediterranean and Western Asia</td>\n",
       "      <td>Explosion crater(s)</td>\n",
       "      <td>Eruption Observed</td>\n",
       "      <td>1282 CE</td>\n",
       "      <td>43.250</td>\n",
       "      <td>10.870</td>\n",
       "      <td>500</td>\n",
       "      <td>No Data</td>\n",
       "      <td>Subduction Zone / Continental Crust (&gt;25 km)</td>\n",
       "      <td>1282</td>\n",
       "      <td>CE</td>\n",
       "    </tr>\n",
       "    <tr>\n",
       "      <th>...</th>\n",
       "      <td>...</td>\n",
       "      <td>...</td>\n",
       "      <td>...</td>\n",
       "      <td>...</td>\n",
       "      <td>...</td>\n",
       "      <td>...</td>\n",
       "      <td>...</td>\n",
       "      <td>...</td>\n",
       "      <td>...</td>\n",
       "      <td>...</td>\n",
       "      <td>...</td>\n",
       "      <td>...</td>\n",
       "      <td>...</td>\n",
       "      <td>...</td>\n",
       "    </tr>\n",
       "    <tr>\n",
       "      <th>1503</th>\n",
       "      <td>390130</td>\n",
       "      <td>Zavodovski</td>\n",
       "      <td>United Kingdom</td>\n",
       "      <td>Antarctica</td>\n",
       "      <td>Stratovolcano</td>\n",
       "      <td>Eruption Observed</td>\n",
       "      <td>2016 CE</td>\n",
       "      <td>-56.300</td>\n",
       "      <td>-27.570</td>\n",
       "      <td>551</td>\n",
       "      <td>Basalt / Picro-Basalt</td>\n",
       "      <td>Subduction Zone / Oceanic Crust (&lt; 15 km)</td>\n",
       "      <td>2016</td>\n",
       "      <td>CE</td>\n",
       "    </tr>\n",
       "    <tr>\n",
       "      <th>1504</th>\n",
       "      <td>390140</td>\n",
       "      <td>Protector Seamounts</td>\n",
       "      <td>United Kingdom</td>\n",
       "      <td>Antarctica</td>\n",
       "      <td>Submarine</td>\n",
       "      <td>Eruption Observed</td>\n",
       "      <td>1962 CE</td>\n",
       "      <td>-55.912</td>\n",
       "      <td>-28.167</td>\n",
       "      <td>-55</td>\n",
       "      <td>Rhyolite</td>\n",
       "      <td>Subduction Zone / Oceanic Crust (&lt; 15 km)</td>\n",
       "      <td>1962</td>\n",
       "      <td>CE</td>\n",
       "    </tr>\n",
       "    <tr>\n",
       "      <th>1505</th>\n",
       "      <td>390812</td>\n",
       "      <td>Rittmann, Mount</td>\n",
       "      <td>Antarctica</td>\n",
       "      <td>Antarctica</td>\n",
       "      <td>Shield</td>\n",
       "      <td>Unrest / Pleistocene</td>\n",
       "      <td>NaN</td>\n",
       "      <td>-73.450</td>\n",
       "      <td>165.500</td>\n",
       "      <td>2600</td>\n",
       "      <td>NaN</td>\n",
       "      <td>Intraplate / Continental Crust (&gt;25 km)</td>\n",
       "      <td>NaN</td>\n",
       "      <td>NaN</td>\n",
       "    </tr>\n",
       "    <tr>\n",
       "      <th>1506</th>\n",
       "      <td>390829</td>\n",
       "      <td>James Ross Island</td>\n",
       "      <td>Antarctica</td>\n",
       "      <td>Antarctica</td>\n",
       "      <td>Shield</td>\n",
       "      <td>Evidence Credible</td>\n",
       "      <td>NaN</td>\n",
       "      <td>-64.150</td>\n",
       "      <td>-57.750</td>\n",
       "      <td>1630</td>\n",
       "      <td>Basalt / Picro-Basalt</td>\n",
       "      <td>Intraplate / Continental Crust (&gt;25 km)</td>\n",
       "      <td>NaN</td>\n",
       "      <td>NaN</td>\n",
       "    </tr>\n",
       "    <tr>\n",
       "      <th>1507</th>\n",
       "      <td>390847</td>\n",
       "      <td>Melville</td>\n",
       "      <td>Antarctica</td>\n",
       "      <td>Antarctica</td>\n",
       "      <td>Stratovolcano</td>\n",
       "      <td>Evidence Uncertain</td>\n",
       "      <td>NaN</td>\n",
       "      <td>-62.020</td>\n",
       "      <td>-57.670</td>\n",
       "      <td>549</td>\n",
       "      <td>NaN</td>\n",
       "      <td>Intraplate / Continental Crust (&gt;25 km)</td>\n",
       "      <td>NaN</td>\n",
       "      <td>NaN</td>\n",
       "    </tr>\n",
       "  </tbody>\n",
       "</table>\n",
       "<p>1508 rows × 14 columns</p>\n",
       "</div>"
      ],
      "text/plain": [
       "      Number                       Name         Country  \\\n",
       "0     210010  West Eifel Volcanic Field         Germany   \n",
       "1     210020            Chaine des Puys          France   \n",
       "2     210030        Olot Volcanic Field           Spain   \n",
       "3     210040   Calatrava Volcanic Field           Spain   \n",
       "4     211001                 Larderello           Italy   \n",
       "...      ...                        ...             ...   \n",
       "1503  390130                 Zavodovski  United Kingdom   \n",
       "1504  390140        Protector Seamounts  United Kingdom   \n",
       "1505  390812            Rittmann, Mount      Antarctica   \n",
       "1506  390829          James Ross Island      Antarctica   \n",
       "1507  390847                   Melville      Antarctica   \n",
       "\n",
       "                              Region                 Type  \\\n",
       "0     Mediterranean and Western Asia              Maar(s)   \n",
       "1     Mediterranean and Western Asia         Lava dome(s)   \n",
       "2     Mediterranean and Western Asia  Pyroclastic cone(s)   \n",
       "3     Mediterranean and Western Asia  Pyroclastic cone(s)   \n",
       "4     Mediterranean and Western Asia  Explosion crater(s)   \n",
       "...                              ...                  ...   \n",
       "1503                      Antarctica        Stratovolcano   \n",
       "1504                      Antarctica            Submarine   \n",
       "1505                      Antarctica               Shield   \n",
       "1506                      Antarctica               Shield   \n",
       "1507                      Antarctica        Stratovolcano   \n",
       "\n",
       "         Activity Evidence Last Known Eruption  Latitude  Longitude  \\\n",
       "0           Eruption Dated            8300 BCE    50.170      6.850   \n",
       "1           Eruption Dated            4040 BCE    45.775      2.970   \n",
       "2        Evidence Credible                 NaN    42.170      2.530   \n",
       "3           Eruption Dated            3600 BCE    38.870     -4.020   \n",
       "4        Eruption Observed             1282 CE    43.250     10.870   \n",
       "...                    ...                 ...       ...        ...   \n",
       "1503     Eruption Observed             2016 CE   -56.300    -27.570   \n",
       "1504     Eruption Observed             1962 CE   -55.912    -28.167   \n",
       "1505  Unrest / Pleistocene                 NaN   -73.450    165.500   \n",
       "1506     Evidence Credible                 NaN   -64.150    -57.750   \n",
       "1507    Evidence Uncertain                 NaN   -62.020    -57.670   \n",
       "\n",
       "      Elevation (Meters)                Dominant Rock Type  \\\n",
       "0                    600                           Foidite   \n",
       "1                   1464             Basalt / Picro-Basalt   \n",
       "2                    893  Trachybasalt / Tephrite Basanite   \n",
       "3                   1117             Basalt / Picro-Basalt   \n",
       "4                    500                           No Data   \n",
       "...                  ...                               ...   \n",
       "1503                 551             Basalt / Picro-Basalt   \n",
       "1504                 -55                          Rhyolite   \n",
       "1505                2600                               NaN   \n",
       "1506                1630             Basalt / Picro-Basalt   \n",
       "1507                 549                               NaN   \n",
       "\n",
       "                                  Tectonic Setting Last Known Eruption Year  \\\n",
       "0           Rift Zone / Continental Crust (>25 km)                     8300   \n",
       "1           Rift Zone / Continental Crust (>25 km)                     4040   \n",
       "2          Intraplate / Continental Crust (>25 km)                      NaN   \n",
       "3          Intraplate / Continental Crust (>25 km)                     3600   \n",
       "4     Subduction Zone / Continental Crust (>25 km)                     1282   \n",
       "...                                            ...                      ...   \n",
       "1503     Subduction Zone / Oceanic Crust (< 15 km)                     2016   \n",
       "1504     Subduction Zone / Oceanic Crust (< 15 km)                     1962   \n",
       "1505       Intraplate / Continental Crust (>25 km)                      NaN   \n",
       "1506       Intraplate / Continental Crust (>25 km)                      NaN   \n",
       "1507       Intraplate / Continental Crust (>25 km)                      NaN   \n",
       "\n",
       "     Last Known Eruption BCE/CE  \n",
       "0                           BCE  \n",
       "1                           BCE  \n",
       "2                           NaN  \n",
       "3                           BCE  \n",
       "4                            CE  \n",
       "...                         ...  \n",
       "1503                         CE  \n",
       "1504                         CE  \n",
       "1505                        NaN  \n",
       "1506                        NaN  \n",
       "1507                        NaN  \n",
       "\n",
       "[1508 rows x 14 columns]"
      ]
     },
     "execution_count": 18,
     "metadata": {},
     "output_type": "execute_result"
    }
   ],
   "source": [
    "volcanos['Last Known Eruption'] = volcanos['Last Known Eruption'].apply(lambda x: np.nan if x=='Unknown' else x)\n",
    "volcanos['Last Known Eruption Year'] = (volcanos['Last Known Eruption'].\n",
    "                                         apply(lambda x: np.nan if pd.isnull(x) else str(x).split(' ')[0] ))\n",
    "volcanos['Last Known Eruption BCE/CE'] = (volcanos['Last Known Eruption'].\n",
    "                                           apply(lambda x: np.nan if pd.isnull(x) else str(x).split(' ')[1]))\n",
    "volcanos"
   ]
  },
  {
   "cell_type": "code",
   "execution_count": 19,
   "id": "ec6e2ea0",
   "metadata": {
    "execution": {
     "iopub.execute_input": "2022-04-29T20:32:16.218408Z",
     "iopub.status.busy": "2022-04-29T20:32:16.217797Z",
     "iopub.status.idle": "2022-04-29T20:32:16.448164Z",
     "shell.execute_reply": "2022-04-29T20:32:16.447204Z"
    },
    "papermill": {
     "duration": 0.27638,
     "end_time": "2022-04-29T20:32:16.450626",
     "exception": false,
     "start_time": "2022-04-29T20:32:16.174246",
     "status": "completed"
    },
    "tags": []
   },
   "outputs": [
    {
     "data": {
      "text/plain": [
       "<AxesSubplot:>"
      ]
     },
     "execution_count": 19,
     "metadata": {},
     "output_type": "execute_result"
    },
    {
     "data": {
      "image/png": "[encoded data removed]",
      "text/plain": [
       "<Figure size 432x288 with 1 Axes>"
      ]
     },
     "metadata": {
      "needs_background": "light"
     },
     "output_type": "display_data"
    }
   ],
   "source": [
    "# remove na's\n",
    "years = volcanos['Last Known Eruption Year'].dropna()\n",
    "\n",
    "# plot the day of the month\n",
    "# sns.distplot(years, kde=False)\n",
    "volcanos['Last Known Eruption Year'].value_counts().sort_values().plot.line()"
   ]
  },
  {
   "cell_type": "code",
   "execution_count": 20,
   "id": "84e8ab3b",
   "metadata": {
    "execution": {
     "iopub.execute_input": "2022-04-29T20:32:16.539387Z",
     "iopub.status.busy": "2022-04-29T20:32:16.538628Z",
     "iopub.status.idle": "2022-04-29T20:32:16.739045Z",
     "shell.execute_reply": "2022-04-29T20:32:16.738129Z"
    },
    "papermill": {
     "duration": 0.251466,
     "end_time": "2022-04-29T20:32:16.745585",
     "exception": false,
     "start_time": "2022-04-29T20:32:16.494119",
     "status": "completed"
    },
    "tags": []
   },
   "outputs": [
    {
     "data": {
      "text/plain": [
       "<AxesSubplot:>"
      ]
     },
     "execution_count": 20,
     "metadata": {},
     "output_type": "execute_result"
    },
    {
     "data": {
      "image/png": "[encoded data removed]",
      "text/plain": [
       "<Figure size 432x288 with 1 Axes>"
      ]
     },
     "metadata": {
      "needs_background": "light"
     },
     "output_type": "display_data"
    }
   ],
   "source": [
    "ceData = volcanos[volcanos['Last Known Eruption BCE/CE'] == 'CE']\n",
    "ceData['Last Known Eruption Year'].value_counts().sort_values().plot.line()"
   ]
  },
  {
   "cell_type": "code",
   "execution_count": 21,
   "id": "25196bf8",
   "metadata": {
    "execution": {
     "iopub.execute_input": "2022-04-29T20:32:16.841304Z",
     "iopub.status.busy": "2022-04-29T20:32:16.840970Z",
     "iopub.status.idle": "2022-04-29T20:32:17.054318Z",
     "shell.execute_reply": "2022-04-29T20:32:17.053268Z"
    },
    "papermill": {
     "duration": 0.262365,
     "end_time": "2022-04-29T20:32:17.056619",
     "exception": false,
     "start_time": "2022-04-29T20:32:16.794254",
     "status": "completed"
    },
    "tags": []
   },
   "outputs": [
    {
     "data": {
      "text/plain": [
       "<AxesSubplot:>"
      ]
     },
     "execution_count": 21,
     "metadata": {},
     "output_type": "execute_result"
    },
    {
     "data": {
      "image/png": "[encoded data removed]",
      "text/plain": [
       "<Figure size 432x288 with 1 Axes>"
      ]
     },
     "metadata": {
      "needs_background": "light"
     },
     "output_type": "display_data"
    }
   ],
   "source": [
    "bceData = volcanos[volcanos['Last Known Eruption BCE/CE'] == 'BCE']\n",
    "bceData['Last Known Eruption Year'].value_counts().sort_values().plot.line()"
   ]
  },
  {
   "cell_type": "markdown",
   "id": "a7239bab",
   "metadata": {
    "papermill": {
     "duration": 0.045456,
     "end_time": "2022-04-29T20:32:17.148171",
     "exception": false,
     "start_time": "2022-04-29T20:32:17.102715",
     "status": "completed"
    },
    "tags": []
   },
   "source": [
    "# (Optional) More practice\n",
    "\n",
    "If you're interested in graphing time series, [check out this tutorial](https://www.kaggle.com/residentmario/time-series-plotting-optional).\n",
    "\n",
    "You can also look into passing columns that you know have dates in them  the `parse_dates` argument in `read_csv`. (The documention [is here](https://pandas.pydata.org/pandas-docs/stable/generated/pandas.read_csv.html).) Do note that this method can be very slow, but depending on your needs it may sometimes be handy to use.\n",
    "\n",
    "# Keep going\n",
    "\n",
    "In the next lesson, learn how to [**work with character encodings**](https://www.kaggle.com/alexisbcook/character-encodings)."
   ]
  }
 ],
 "metadata": {
  "kernelspec": {
   "display_name": "Python 3",
   "language": "python",
   "name": "python3"
  },
  "language_info": {
   "codemirror_mode": {
    "name": "ipython",
    "version": 3
   },
   "file_extension": ".py",
   "mimetype": "text/x-python",
   "name": "python",
   "nbconvert_exporter": "python",
   "pygments_lexer": "ipython3",
   "version": "3.7.12"
  },
  "papermill": {
   "default_parameters": {},
   "duration": 18.226121,
   "end_time": "2022-04-29T20:32:18.218434",
   "environment_variables": {},
   "exception": null,
   "input_path": "__notebook__.ipynb",
   "output_path": "__notebook__.ipynb",
   "parameters": {},
   "start_time": "2022-04-29T20:31:59.992313",
   "version": "2.3.4"
  }
 },
 "nbformat": 4,
 "nbformat_minor": 5
}
